{
 "cells": [
  {
   "cell_type": "markdown",
   "id": "265de0e7",
   "metadata": {},
   "source": [
    "# Gassman Fluid Substitution\n",
    "## Predicting variations of P Wave velocity, when one fluid is replaced with another."
   ]
  },
  {
   "cell_type": "code",
   "execution_count": 101,
   "id": "d2d82494",
   "metadata": {},
   "outputs": [],
   "source": [
    "import numpy as np\n",
    "import matplotlib.pyplot as plt"
   ]
  },
  {
   "cell_type": "code",
   "execution_count": 20,
   "id": "507866ad",
   "metadata": {},
   "outputs": [],
   "source": [
    "# K Saturated Initial - Biot (1956)\n",
    "def msat(vs, rho):\n",
    "    '''\n",
    "    Miu saturated (C) hpratama 2020\n",
    "    \n",
    "    Input:\n",
    "    vs = Shear Velocity (Km/s)\n",
    "    rho = Density (g/cc)\n",
    "  \n",
    "    '''\n",
    "    return rho*(vs**2)\n",
    "\n",
    "def ksat1(vp, vs, rho):\n",
    "    '''\n",
    "    K saturated (C) hpratama 2020\n",
    "    \n",
    "    Input:\n",
    "    vp = P wave velocity (Km/s)\n",
    "    vs = Shear wave Velocity (Km/s)\n",
    "    rho = Density (g/cc)\n",
    "  \n",
    "    '''\n",
    "    Ksat1 = ((vp**2)*rho) - 4/3*(msat(vs, rho))\n",
    "    return np.round(Ksat1, 3)"
   ]
  },
  {
   "cell_type": "code",
   "execution_count": 21,
   "id": "ccc37b84",
   "metadata": {},
   "outputs": [],
   "source": [
    "#K Fluid\n",
    "#Batzle and Wang, 1992\n",
    "\n",
    "def kfl(sw, kf, kw):\n",
    "    '''\n",
    "    K Fluid (C) hpratama 2020\n",
    "    \n",
    "    Input:\n",
    "    sw = Water Saturation\n",
    "    kf = K Fluid (Hydrocarbon or CO2)\n",
    "    kw = K Water\n",
    "    \n",
    "    '''\n",
    "    kfl = ((sw/kw) + ((1-sw)/kf))**-1\n",
    "    return np.round(kfl, 3)"
   ]
  },
  {
   "cell_type": "code",
   "execution_count": 22,
   "id": "bc81f017",
   "metadata": {},
   "outputs": [],
   "source": [
    "#K Mineral\n",
    "#Voight-Reuss-Hill Average\n",
    "\n",
    "def km(por, fq, fc, kq, kc):\n",
    "    '''\n",
    "    K mineral (K0) (C) hpratama 2020\n",
    "    \n",
    "    Input:\n",
    "    por = Porosity\n",
    "    fq = Quartz Fraction\n",
    "    fc = Calcite Fraction\n",
    "    kq = Quarzt Bulk\n",
    "    kc = Calcite Bulk\n",
    "    \n",
    "    '''\n",
    "    kv = ((fq)*kq) + ((fc)*kc) \n",
    "    \n",
    "    kr = (((fq)/kq) + ((fc)/kc))**(-1)\n",
    "    \n",
    "    km = (kv + kr)/2\n",
    "    \n",
    "    return np.round(km, 3)"
   ]
  },
  {
   "cell_type": "code",
   "execution_count": 23,
   "id": "ac35a05e",
   "metadata": {},
   "outputs": [],
   "source": [
    "#K Saturated Final\n",
    "#Mavko et al. 1998\n",
    "\n",
    "def ksat2(ksat1, k0, kfl1, kfl2, por):\n",
    "    '''\n",
    "    K Saturation after fluid substitution (C) hpratama 2020\n",
    "    \n",
    "    Input:\n",
    "    ksat1 = K Saturation before Fluid Substitution\n",
    "    k0 = K Mineral\n",
    "    kfl1 = K Fluid before Substitution\n",
    "    kfl2 = K Fluid after Substitution\n",
    "    por = Porosity\n",
    "    \n",
    "    '''\n",
    "    a = (ksat1/(k0 - ksat1)) - (kfl1/(por*(k0 - kfl1))) + (kfl2/(por*(k0 - kfl2)))\n",
    "    ksat2 = (a*(k0))/(1+a)\n",
    "    return np.round(ksat2, 3)"
   ]
  },
  {
   "cell_type": "code",
   "execution_count": 24,
   "id": "70339950",
   "metadata": {},
   "outputs": [],
   "source": [
    "def rhofluid(sw, so, rhoo, rhow):\n",
    "    \n",
    "    rho1 = ((1-so) * rhow) + (so * rhoo)\n",
    "    rho2 = ((sw) * rhow) + ((1 - sw) * rhoo)\n",
    "    rho1 = np.round(rho1, 3)\n",
    "    rho2 = np.round(rho2, 3)    \n",
    "    return rho1, rho2"
   ]
  },
  {
   "cell_type": "code",
   "execution_count": 25,
   "id": "8c7304a0",
   "metadata": {},
   "outputs": [],
   "source": [
    "def rhosat(rho, por, rhow, sw, so, rhoo):\n",
    "    rho1, rho2 = rhofluid(sw, so, rhoo, rhow)\n",
    "    \n",
    "    rhosat = rho+(por*(rho2 - rho1))\n",
    "    return np.round(rhosat, 3)"
   ]
  },
  {
   "cell_type": "code",
   "execution_count": 26,
   "id": "024fc588",
   "metadata": {},
   "outputs": [],
   "source": [
    "def vp(ksat2, vs, rhosat):\n",
    "    vp = ((ksat2 + (4/3*(msat(vs, rhosat)))) / (rhosat))**0.5\n",
    "    return np.round(vp, 3)"
   ]
  },
  {
   "cell_type": "markdown",
   "id": "f6402427",
   "metadata": {},
   "source": [
    "## INPUT"
   ]
  },
  {
   "cell_type": "code",
   "execution_count": 160,
   "id": "11b598d7",
   "metadata": {},
   "outputs": [],
   "source": [
    "Por = np.arange(0.05, 0.45, 0.01) #in g/cc\n",
    "Vp = ((Por/1.55)+((1-Por)/5.85))**(-1) #Assume that the pore fluid is water with velocity 1.55 km/s. Vp for Quartz is 5.85 km/s\n",
    "Vs = Vp/1.7 #in Km/s\n",
    "Rho = 2.65  # density g/cc\n",
    "\n",
    "Sw = 1\n",
    "So = 0.2 # Saturation CO2\n",
    "\n",
    "Fq = 0.99 #  Quartz Fraction\n",
    "Fc = 0.01 #  Calcite Fraction\n",
    "Kq = 36.4   # Quarzt Bulk Modulus in GPa\n",
    "Kc = 65   # Limestone Bulk Modulus in GPa\n",
    "Ko = 0.159  # Bulk Modulus CO2 in GPa\n",
    "Kw = 3.4 # Bulk Modulus Water in GPa\n",
    "\n",
    "Rhoo = 0.832  # density CO2 g/cc \n",
    "Rhow = 1    # density water g/cc"
   ]
  },
  {
   "cell_type": "markdown",
   "id": "2ad89f8f",
   "metadata": {},
   "source": [
    "## CALCULATIONS"
   ]
  },
  {
   "cell_type": "code",
   "execution_count": 161,
   "id": "75fe1d0a",
   "metadata": {},
   "outputs": [],
   "source": [
    "''' K saturation before fluid subtitution '''\n",
    "Ksat1 = ksat1(Vp, Vs, Rho)"
   ]
  },
  {
   "cell_type": "code",
   "execution_count": 162,
   "id": "39f6ed20",
   "metadata": {
    "scrolled": true
   },
   "outputs": [],
   "source": [
    "'''K fluid before and after fluid substitution'''\n",
    "Kfl1 = kfl((1-So), Ko, Kw)\n",
    "Kfl2 = kfl(Sw, Ko, Kw)"
   ]
  },
  {
   "cell_type": "code",
   "execution_count": 163,
   "id": "2372f434",
   "metadata": {},
   "outputs": [],
   "source": [
    "'''K Mineral from Hill formula, this formula needs Voight-Reuss Bounds calculation too. \n",
    "First calculate K saturation before fluid subtitution'''\n",
    "K0 = km(Por, Fq, Fc, Kq, Kc)"
   ]
  },
  {
   "cell_type": "code",
   "execution_count": 164,
   "id": "b17204a1",
   "metadata": {},
   "outputs": [],
   "source": [
    "'''K saturated after fluid substitution'''\n",
    "Ksat2 = ksat2(Ksat1, K0, Kfl1, Kfl2, 0.3)"
   ]
  },
  {
   "cell_type": "code",
   "execution_count": 165,
   "id": "eeed8311",
   "metadata": {},
   "outputs": [],
   "source": [
    "'''Calculate density saturation'''\n",
    "Rhosat = rhosat(Rho, Por, Rhow, Sw, So, Rhoo)"
   ]
  },
  {
   "cell_type": "code",
   "execution_count": 166,
   "id": "4a1731a2",
   "metadata": {},
   "outputs": [],
   "source": [
    "'''New Vp with new K saturated after fluid substitution'''\n",
    "Vpsat = vp(Ksat2, Vs, Rhosat)"
   ]
  },
  {
   "cell_type": "code",
   "execution_count": 171,
   "id": "ed8d535b",
   "metadata": {},
   "outputs": [],
   "source": [
    "AI_sat = Vpsat * Rhosat\n",
    "AI_ini = Vp * Rho\n",
    "AI_var = (1 - AI_ini/AI_sat)*100"
   ]
  },
  {
   "cell_type": "code",
   "execution_count": 174,
   "id": "aa8e8d90",
   "metadata": {},
   "outputs": [
    {
     "data": {
      "image/png": "[encoded data removed]",
      "text/plain": [
       "<Figure size 1080x720 with 1 Axes>"
      ]
     },
     "metadata": {
      "needs_background": "light"
     },
     "output_type": "display_data"
    }
   ],
   "source": [
    "# initialise plot\n",
    "fig, axs = plt.subplots(nrows=1, ncols=1,figsize=(15, 10),sharey=True)\n",
    "\n",
    "#plot pressure lines\n",
    "axs.plot(Por, AI_var, color=\"royalblue\", linewidth=3, linestyle=\"-\", label=\"Acoustic Impedance decrease\")\n",
    "\n",
    "# set plot title and axis labels\n",
    "axs.set_title(f'Acoustic Impedance decrease in % VS. Porosity \\n CO2 saturation {So*100}%', fontsize=15)\n",
    "axs.set_xlabel('Porosity', fontsize=15)\n",
    "axs.set_ylabel('AI decrease [%]', fontsize=15)\n",
    "\n",
    "#show gridlinesb\n",
    "axs.grid(axis = 'both')\n",
    "\n",
    "\n",
    "plt.show()\n",
    "\n",
    "# Uncomment the line below if you would like to save out the plot to a png file\n",
    "#plt.savefig('plot.png', dpi=300)"
   ]
  },
  {
   "cell_type": "code",
   "execution_count": null,
   "id": "8519cdfa",
   "metadata": {},
   "outputs": [],
   "source": []
  },
  {
   "cell_type": "code",
   "execution_count": null,
   "id": "a9804e48",
   "metadata": {},
   "outputs": [],
   "source": []
  }
 ],
 "metadata": {
  "kernelspec": {
   "display_name": "geocomp",
   "language": "python",
   "name": "geocomp"
  },
  "language_info": {
   "codemirror_mode": {
    "name": "ipython",
    "version": 3
   },
   "file_extension": ".py",
   "mimetype": "text/x-python",
   "name": "python",
   "nbconvert_exporter": "python",
   "pygments_lexer": "ipython3",
   "version": "3.9.7"
  }
 },
 "nbformat": 4,
 "nbformat_minor": 5
}
